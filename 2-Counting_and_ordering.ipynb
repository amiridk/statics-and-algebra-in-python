{
 "cells": [
  {
   "cell_type": "markdown",
   "metadata": {},
   "source": [
    "# Statics in python\n"
   ]
  },
  {
   "cell_type": "markdown",
   "metadata": {},
   "source": [
    "#### Statistics play a crucial role in machine learning, and this note serves as an introduction to working with statistics and probability in Python.\n",
    "\n",
    "this is my note for machine learning starts with important statics and logical operations and a few problems solving in the end of file.\n",
    "\n",
    "by amirreza zare. 5/21/2023\n",
    "\n"
   ]
  }
 ],
 "metadata": {
  "language_info": {
   "name": "python"
  }
 },
 "nbformat": 4,
 "nbformat_minor": 2
}
