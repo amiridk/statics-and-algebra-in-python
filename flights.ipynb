{
 "cells": [
  {
   "cell_type": "code",
   "execution_count": 32,
   "metadata": {},
   "outputs": [],
   "source": [
    "import numpy as np \n",
    "import pandas as pd"
   ]
  },
  {
   "cell_type": "code",
   "execution_count": null,
   "metadata": {},
   "outputs": [
    {
     "data": {
      "text/html": [
       "<div>\n",
       "<style scoped>\n",
       "    .dataframe tbody tr th:only-of-type {\n",
       "        vertical-align: middle;\n",
       "    }\n",
       "\n",
       "    .dataframe tbody tr th {\n",
       "        vertical-align: top;\n",
       "    }\n",
       "\n",
       "    .dataframe thead th {\n",
       "        text-align: right;\n",
       "    }\n",
       "</style>\n",
       "<table border=\"1\" class=\"dataframe\">\n",
       "  <thead>\n",
       "    <tr style=\"text-align: right;\">\n",
       "      <th></th>\n",
       "      <th>id</th>\n",
       "      <th>year</th>\n",
       "      <th>month</th>\n",
       "      <th>day</th>\n",
       "      <th>dep_time</th>\n",
       "      <th>sched_dep_time</th>\n",
       "      <th>dep_delay</th>\n",
       "      <th>arr_time</th>\n",
       "      <th>sched_arr_time</th>\n",
       "      <th>arr_delay</th>\n",
       "      <th>...</th>\n",
       "      <th>flight</th>\n",
       "      <th>tailnum</th>\n",
       "      <th>origin</th>\n",
       "      <th>dest</th>\n",
       "      <th>air_time</th>\n",
       "      <th>distance</th>\n",
       "      <th>hour</th>\n",
       "      <th>minute</th>\n",
       "      <th>time_hour</th>\n",
       "      <th>name</th>\n",
       "    </tr>\n",
       "  </thead>\n",
       "  <tbody>\n",
       "    <tr>\n",
       "      <th>0</th>\n",
       "      <td>0</td>\n",
       "      <td>2013</td>\n",
       "      <td>1</td>\n",
       "      <td>1</td>\n",
       "      <td>517.0</td>\n",
       "      <td>515</td>\n",
       "      <td>2.0</td>\n",
       "      <td>830.0</td>\n",
       "      <td>819</td>\n",
       "      <td>11.0</td>\n",
       "      <td>...</td>\n",
       "      <td>1545</td>\n",
       "      <td>N14228</td>\n",
       "      <td>EWR</td>\n",
       "      <td>IAH</td>\n",
       "      <td>227.0</td>\n",
       "      <td>1400</td>\n",
       "      <td>5</td>\n",
       "      <td>15</td>\n",
       "      <td>2013-01-01 05:00:00</td>\n",
       "      <td>United Air Lines Inc.</td>\n",
       "    </tr>\n",
       "    <tr>\n",
       "      <th>1</th>\n",
       "      <td>1</td>\n",
       "      <td>2013</td>\n",
       "      <td>1</td>\n",
       "      <td>1</td>\n",
       "      <td>533.0</td>\n",
       "      <td>529</td>\n",
       "      <td>4.0</td>\n",
       "      <td>850.0</td>\n",
       "      <td>830</td>\n",
       "      <td>20.0</td>\n",
       "      <td>...</td>\n",
       "      <td>1714</td>\n",
       "      <td>N24211</td>\n",
       "      <td>LGA</td>\n",
       "      <td>IAH</td>\n",
       "      <td>227.0</td>\n",
       "      <td>1416</td>\n",
       "      <td>5</td>\n",
       "      <td>29</td>\n",
       "      <td>2013-01-01 05:00:00</td>\n",
       "      <td>United Air Lines Inc.</td>\n",
       "    </tr>\n",
       "    <tr>\n",
       "      <th>2</th>\n",
       "      <td>2</td>\n",
       "      <td>2013</td>\n",
       "      <td>1</td>\n",
       "      <td>1</td>\n",
       "      <td>542.0</td>\n",
       "      <td>540</td>\n",
       "      <td>2.0</td>\n",
       "      <td>923.0</td>\n",
       "      <td>850</td>\n",
       "      <td>33.0</td>\n",
       "      <td>...</td>\n",
       "      <td>1141</td>\n",
       "      <td>N619AA</td>\n",
       "      <td>JFK</td>\n",
       "      <td>MIA</td>\n",
       "      <td>160.0</td>\n",
       "      <td>1089</td>\n",
       "      <td>5</td>\n",
       "      <td>40</td>\n",
       "      <td>2013-01-01 05:00:00</td>\n",
       "      <td>American Airlines Inc.</td>\n",
       "    </tr>\n",
       "    <tr>\n",
       "      <th>3</th>\n",
       "      <td>3</td>\n",
       "      <td>2013</td>\n",
       "      <td>1</td>\n",
       "      <td>1</td>\n",
       "      <td>544.0</td>\n",
       "      <td>545</td>\n",
       "      <td>-1.0</td>\n",
       "      <td>1004.0</td>\n",
       "      <td>1022</td>\n",
       "      <td>-18.0</td>\n",
       "      <td>...</td>\n",
       "      <td>725</td>\n",
       "      <td>N804JB</td>\n",
       "      <td>JFK</td>\n",
       "      <td>BQN</td>\n",
       "      <td>183.0</td>\n",
       "      <td>1576</td>\n",
       "      <td>5</td>\n",
       "      <td>45</td>\n",
       "      <td>2013-01-01 05:00:00</td>\n",
       "      <td>JetBlue Airways</td>\n",
       "    </tr>\n",
       "    <tr>\n",
       "      <th>4</th>\n",
       "      <td>4</td>\n",
       "      <td>2013</td>\n",
       "      <td>1</td>\n",
       "      <td>1</td>\n",
       "      <td>554.0</td>\n",
       "      <td>600</td>\n",
       "      <td>-6.0</td>\n",
       "      <td>812.0</td>\n",
       "      <td>837</td>\n",
       "      <td>-25.0</td>\n",
       "      <td>...</td>\n",
       "      <td>461</td>\n",
       "      <td>N668DN</td>\n",
       "      <td>LGA</td>\n",
       "      <td>ATL</td>\n",
       "      <td>116.0</td>\n",
       "      <td>762</td>\n",
       "      <td>6</td>\n",
       "      <td>0</td>\n",
       "      <td>2013-01-01 06:00:00</td>\n",
       "      <td>Delta Air Lines Inc.</td>\n",
       "    </tr>\n",
       "  </tbody>\n",
       "</table>\n",
       "<p>5 rows × 21 columns</p>\n",
       "</div>"
      ],
      "text/plain": [
       "   id  year  month  day  dep_time  sched_dep_time  dep_delay  arr_time  \\\n",
       "0   0  2013      1    1     517.0             515        2.0     830.0   \n",
       "1   1  2013      1    1     533.0             529        4.0     850.0   \n",
       "2   2  2013      1    1     542.0             540        2.0     923.0   \n",
       "3   3  2013      1    1     544.0             545       -1.0    1004.0   \n",
       "4   4  2013      1    1     554.0             600       -6.0     812.0   \n",
       "\n",
       "   sched_arr_time  arr_delay  ... flight  tailnum origin dest air_time  \\\n",
       "0             819       11.0  ...   1545   N14228    EWR  IAH    227.0   \n",
       "1             830       20.0  ...   1714   N24211    LGA  IAH    227.0   \n",
       "2             850       33.0  ...   1141   N619AA    JFK  MIA    160.0   \n",
       "3            1022      -18.0  ...    725   N804JB    JFK  BQN    183.0   \n",
       "4             837      -25.0  ...    461   N668DN    LGA  ATL    116.0   \n",
       "\n",
       "   distance  hour  minute            time_hour                    name  \n",
       "0      1400     5      15  2013-01-01 05:00:00   United Air Lines Inc.  \n",
       "1      1416     5      29  2013-01-01 05:00:00   United Air Lines Inc.  \n",
       "2      1089     5      40  2013-01-01 05:00:00  American Airlines Inc.  \n",
       "3      1576     5      45  2013-01-01 05:00:00         JetBlue Airways  \n",
       "4       762     6       0  2013-01-01 06:00:00    Delta Air Lines Inc.  \n",
       "\n",
       "[5 rows x 21 columns]"
      ]
     },
     "execution_count": 33,
     "metadata": {},
     "output_type": "execute_result"
    }
   ],
   "source": [
    "\n",
    "df = pd.read_csv('flights.csv')\n",
    "df.head()"
   ]
  },
  {
   "cell_type": "code",
   "execution_count": 34,
   "metadata": {},
   "outputs": [
    {
     "data": {
      "text/plain": [
       "6.89537675731489"
      ]
     },
     "execution_count": 34,
     "metadata": {},
     "output_type": "execute_result"
    }
   ],
   "source": [
    "df['arr_delay'].mean()"
   ]
  },
  {
   "cell_type": "code",
   "execution_count": 35,
   "metadata": {},
   "outputs": [
    {
     "data": {
      "text/plain": [
       "6.89537675731489"
      ]
     },
     "execution_count": 35,
     "metadata": {},
     "output_type": "execute_result"
    }
   ],
   "source": [
    "df['arr_delay'].mean()"
   ]
  },
  {
   "cell_type": "code",
   "execution_count": 36,
   "metadata": {},
   "outputs": [
    {
     "data": {
      "text/plain": [
       "0.9612355338465307"
      ]
     },
     "execution_count": 36,
     "metadata": {},
     "output_type": "execute_result"
    }
   ],
   "source": [
    "from scipy import stats\n",
    "stats.trim_mean(df['arr_delay'] , .1 ) # delete Outs"
   ]
  },
  {
   "cell_type": "code",
   "execution_count": 37,
   "metadata": {},
   "outputs": [
    {
     "data": {
      "text/plain": [
       "-5.0"
      ]
     },
     "execution_count": 37,
     "metadata": {},
     "output_type": "execute_result"
    }
   ],
   "source": [
    "df['arr_delay'].median()"
   ]
  },
  {
   "cell_type": "code",
   "execution_count": 38,
   "metadata": {},
   "outputs": [
    {
     "data": {
      "text/plain": [
       "0   -13.0\n",
       "Name: arr_delay, dtype: float64"
      ]
     },
     "execution_count": 38,
     "metadata": {},
     "output_type": "execute_result"
    }
   ],
   "source": [
    "df['arr_delay'].mode()"
   ]
  },
  {
   "cell_type": "code",
   "execution_count": 39,
   "metadata": {},
   "outputs": [
    {
     "data": {
      "text/plain": [
       "1992.130727102053"
      ]
     },
     "execution_count": 39,
     "metadata": {},
     "output_type": "execute_result"
    }
   ],
   "source": [
    "df['arr_delay'].var()"
   ]
  },
  {
   "cell_type": "code",
   "execution_count": 40,
   "metadata": {},
   "outputs": [
    {
     "data": {
      "text/plain": [
       "44.63329169019526"
      ]
     },
     "execution_count": 40,
     "metadata": {},
     "output_type": "execute_result"
    }
   ],
   "source": [
    "df['arr_delay'].std() #is data type"
   ]
  },
  {
   "cell_type": "code",
   "execution_count": 41,
   "metadata": {},
   "outputs": [
    {
     "data": {
      "text/plain": [
       "<Axes: >"
      ]
     },
     "execution_count": 41,
     "metadata": {},
     "output_type": "execute_result"
    },
    {
     "data": {
      "image/png": "[encoded data removed]",
      "text/plain": [
       "<Figure size 640x480 with 1 Axes>"
      ]
     },
     "metadata": {},
     "output_type": "display_data"
    }
   ],
   "source": [
    "df['arr_delay'].hist(bins=200)"
   ]
  },
  {
   "cell_type": "code",
   "execution_count": 42,
   "metadata": {},
   "outputs": [
    {
     "data": {
      "text/plain": [
       "<Axes: >"
      ]
     },
     "execution_count": 42,
     "metadata": {},
     "output_type": "execute_result"
    },
    {
     "data": {
      "image/png": "[encoded data removed]",
      "text/plain": [
       "<Figure size 640x480 with 1 Axes>"
      ]
     },
     "metadata": {},
     "output_type": "display_data"
    }
   ],
   "source": [
    "df['arr_delay'][df['arr_delay'] < 100].hist(bins=500)"
   ]
  },
  {
   "cell_type": "code",
   "execution_count": 43,
   "metadata": {},
   "outputs": [
    {
     "name": "stdout",
     "output_type": "stream",
     "text": [
      "-127.00449831327089\n",
      "140.79525182790067\n"
     ]
    }
   ],
   "source": [
    "#check the normalize \n",
    "\n",
    "fac_1 = df['arr_delay'].mean() - (3*df['arr_delay'].std())\n",
    "fac_2 = df['arr_delay'].mean() + (3*df['arr_delay'].std())\n",
    "\n",
    "print(fac_1)\n",
    "print(fac_2)"
   ]
  },
  {
   "cell_type": "code",
   "execution_count": 44,
   "metadata": {},
   "outputs": [
    {
     "data": {
      "text/plain": [
       "3.7168174804571863"
      ]
     },
     "execution_count": 44,
     "metadata": {},
     "output_type": "execute_result"
    }
   ],
   "source": [
    "df['arr_delay'].skew()"
   ]
  },
  {
   "cell_type": "code",
   "execution_count": 45,
   "metadata": {},
   "outputs": [
    {
     "data": {
      "text/plain": [
       "29.233043998766775"
      ]
     },
     "execution_count": 45,
     "metadata": {},
     "output_type": "execute_result"
    }
   ],
   "source": [
    "df['arr_delay'].kurtosis()"
   ]
  },
  {
   "cell_type": "code",
   "execution_count": 69,
   "metadata": {},
   "outputs": [
    {
     "data": {
      "text/html": [
       "<div>\n",
       "<style scoped>\n",
       "    .dataframe tbody tr th:only-of-type {\n",
       "        vertical-align: middle;\n",
       "    }\n",
       "\n",
       "    .dataframe tbody tr th {\n",
       "        vertical-align: top;\n",
       "    }\n",
       "\n",
       "    .dataframe thead th {\n",
       "        text-align: right;\n",
       "    }\n",
       "</style>\n",
       "<table border=\"1\" class=\"dataframe\">\n",
       "  <thead>\n",
       "    <tr style=\"text-align: right;\">\n",
       "      <th></th>\n",
       "      <th>id</th>\n",
       "      <th>year</th>\n",
       "      <th>month</th>\n",
       "      <th>day</th>\n",
       "      <th>dep_time</th>\n",
       "      <th>sched_dep_time</th>\n",
       "      <th>dep_delay</th>\n",
       "      <th>arr_time</th>\n",
       "      <th>sched_arr_time</th>\n",
       "      <th>arr_delay</th>\n",
       "      <th>flight</th>\n",
       "      <th>air_time</th>\n",
       "      <th>distance</th>\n",
       "      <th>hour</th>\n",
       "      <th>minute</th>\n",
       "    </tr>\n",
       "  </thead>\n",
       "  <tbody>\n",
       "    <tr>\n",
       "      <th>id</th>\n",
       "      <td>1.000000</td>\n",
       "      <td>NaN</td>\n",
       "      <td>0.071779</td>\n",
       "      <td>0.087852</td>\n",
       "      <td>0.002172</td>\n",
       "      <td>0.004076</td>\n",
       "      <td>0.049713</td>\n",
       "      <td>-0.024680</td>\n",
       "      <td>-0.013373</td>\n",
       "      <td>0.018613</td>\n",
       "      <td>0.002676</td>\n",
       "      <td>-0.032866</td>\n",
       "      <td>0.012526</td>\n",
       "      <td>0.003150</td>\n",
       "      <td>0.022619</td>\n",
       "    </tr>\n",
       "    <tr>\n",
       "      <th>year</th>\n",
       "      <td>NaN</td>\n",
       "      <td>NaN</td>\n",
       "      <td>NaN</td>\n",
       "      <td>NaN</td>\n",
       "      <td>NaN</td>\n",
       "      <td>NaN</td>\n",
       "      <td>NaN</td>\n",
       "      <td>NaN</td>\n",
       "      <td>NaN</td>\n",
       "      <td>NaN</td>\n",
       "      <td>NaN</td>\n",
       "      <td>NaN</td>\n",
       "      <td>NaN</td>\n",
       "      <td>NaN</td>\n",
       "      <td>NaN</td>\n",
       "    </tr>\n",
       "    <tr>\n",
       "      <th>month</th>\n",
       "      <td>0.071779</td>\n",
       "      <td>NaN</td>\n",
       "      <td>1.000000</td>\n",
       "      <td>0.002942</td>\n",
       "      <td>-0.003932</td>\n",
       "      <td>-0.004573</td>\n",
       "      <td>-0.020057</td>\n",
       "      <td>-0.002520</td>\n",
       "      <td>-0.004173</td>\n",
       "      <td>-0.017382</td>\n",
       "      <td>-0.000834</td>\n",
       "      <td>0.010924</td>\n",
       "      <td>0.021636</td>\n",
       "      <td>-0.005227</td>\n",
       "      <td>0.015528</td>\n",
       "    </tr>\n",
       "    <tr>\n",
       "      <th>day</th>\n",
       "      <td>0.087852</td>\n",
       "      <td>NaN</td>\n",
       "      <td>0.002942</td>\n",
       "      <td>1.000000</td>\n",
       "      <td>-0.000467</td>\n",
       "      <td>-0.000014</td>\n",
       "      <td>0.000420</td>\n",
       "      <td>-0.005537</td>\n",
       "      <td>-0.002403</td>\n",
       "      <td>-0.000319</td>\n",
       "      <td>-0.001791</td>\n",
       "      <td>0.002236</td>\n",
       "      <td>0.003041</td>\n",
       "      <td>-0.000055</td>\n",
       "      <td>0.000987</td>\n",
       "    </tr>\n",
       "    <tr>\n",
       "      <th>dep_time</th>\n",
       "      <td>0.002172</td>\n",
       "      <td>NaN</td>\n",
       "      <td>-0.003932</td>\n",
       "      <td>-0.000467</td>\n",
       "      <td>1.000000</td>\n",
       "      <td>0.954617</td>\n",
       "      <td>0.260231</td>\n",
       "      <td>0.660779</td>\n",
       "      <td>0.784682</td>\n",
       "      <td>0.232306</td>\n",
       "      <td>0.041957</td>\n",
       "      <td>-0.014619</td>\n",
       "      <td>-0.013998</td>\n",
       "      <td>0.953306</td>\n",
       "      <td>0.091577</td>\n",
       "    </tr>\n",
       "    <tr>\n",
       "      <th>sched_dep_time</th>\n",
       "      <td>0.004076</td>\n",
       "      <td>NaN</td>\n",
       "      <td>-0.004573</td>\n",
       "      <td>-0.000014</td>\n",
       "      <td>0.954617</td>\n",
       "      <td>1.000000</td>\n",
       "      <td>0.198887</td>\n",
       "      <td>0.642680</td>\n",
       "      <td>0.783342</td>\n",
       "      <td>0.173896</td>\n",
       "      <td>0.036495</td>\n",
       "      <td>-0.015532</td>\n",
       "      <td>-0.017995</td>\n",
       "      <td>0.999148</td>\n",
       "      <td>0.082960</td>\n",
       "    </tr>\n",
       "    <tr>\n",
       "      <th>dep_delay</th>\n",
       "      <td>0.049713</td>\n",
       "      <td>NaN</td>\n",
       "      <td>-0.020057</td>\n",
       "      <td>0.000420</td>\n",
       "      <td>0.260231</td>\n",
       "      <td>0.198887</td>\n",
       "      <td>1.000000</td>\n",
       "      <td>0.028729</td>\n",
       "      <td>0.160488</td>\n",
       "      <td>0.914803</td>\n",
       "      <td>0.054734</td>\n",
       "      <td>-0.022405</td>\n",
       "      <td>-0.021671</td>\n",
       "      <td>0.198226</td>\n",
       "      <td>0.028441</td>\n",
       "    </tr>\n",
       "    <tr>\n",
       "      <th>arr_time</th>\n",
       "      <td>-0.024680</td>\n",
       "      <td>NaN</td>\n",
       "      <td>-0.002520</td>\n",
       "      <td>-0.005537</td>\n",
       "      <td>0.660779</td>\n",
       "      <td>0.642680</td>\n",
       "      <td>0.028729</td>\n",
       "      <td>1.000000</td>\n",
       "      <td>0.788997</td>\n",
       "      <td>0.024482</td>\n",
       "      <td>0.025042</td>\n",
       "      <td>0.054296</td>\n",
       "      <td>0.046991</td>\n",
       "      <td>0.642651</td>\n",
       "      <td>0.040969</td>\n",
       "    </tr>\n",
       "    <tr>\n",
       "      <th>sched_arr_time</th>\n",
       "      <td>-0.013373</td>\n",
       "      <td>NaN</td>\n",
       "      <td>-0.004173</td>\n",
       "      <td>-0.002403</td>\n",
       "      <td>0.784682</td>\n",
       "      <td>0.783342</td>\n",
       "      <td>0.160488</td>\n",
       "      <td>0.788997</td>\n",
       "      <td>1.000000</td>\n",
       "      <td>0.133261</td>\n",
       "      <td>0.021594</td>\n",
       "      <td>0.078918</td>\n",
       "      <td>0.068726</td>\n",
       "      <td>0.783283</td>\n",
       "      <td>0.050321</td>\n",
       "    </tr>\n",
       "    <tr>\n",
       "      <th>arr_delay</th>\n",
       "      <td>0.018613</td>\n",
       "      <td>NaN</td>\n",
       "      <td>-0.017382</td>\n",
       "      <td>-0.000319</td>\n",
       "      <td>0.232306</td>\n",
       "      <td>0.173896</td>\n",
       "      <td>0.914803</td>\n",
       "      <td>0.024482</td>\n",
       "      <td>0.133261</td>\n",
       "      <td>1.000000</td>\n",
       "      <td>0.072862</td>\n",
       "      <td>-0.035297</td>\n",
       "      <td>-0.061868</td>\n",
       "      <td>0.173456</td>\n",
       "      <td>0.021522</td>\n",
       "    </tr>\n",
       "    <tr>\n",
       "      <th>flight</th>\n",
       "      <td>0.002676</td>\n",
       "      <td>NaN</td>\n",
       "      <td>-0.000834</td>\n",
       "      <td>-0.001791</td>\n",
       "      <td>0.041957</td>\n",
       "      <td>0.036495</td>\n",
       "      <td>0.054734</td>\n",
       "      <td>0.025042</td>\n",
       "      <td>0.021594</td>\n",
       "      <td>0.072862</td>\n",
       "      <td>1.000000</td>\n",
       "      <td>-0.472838</td>\n",
       "      <td>-0.484165</td>\n",
       "      <td>0.035838</td>\n",
       "      <td>0.018137</td>\n",
       "    </tr>\n",
       "    <tr>\n",
       "      <th>air_time</th>\n",
       "      <td>-0.032866</td>\n",
       "      <td>NaN</td>\n",
       "      <td>0.010924</td>\n",
       "      <td>0.002236</td>\n",
       "      <td>-0.014619</td>\n",
       "      <td>-0.015532</td>\n",
       "      <td>-0.022405</td>\n",
       "      <td>0.054296</td>\n",
       "      <td>0.078918</td>\n",
       "      <td>-0.035297</td>\n",
       "      <td>-0.472838</td>\n",
       "      <td>1.000000</td>\n",
       "      <td>0.990650</td>\n",
       "      <td>-0.016277</td>\n",
       "      <td>0.017032</td>\n",
       "    </tr>\n",
       "    <tr>\n",
       "      <th>distance</th>\n",
       "      <td>0.012526</td>\n",
       "      <td>NaN</td>\n",
       "      <td>0.021636</td>\n",
       "      <td>0.003041</td>\n",
       "      <td>-0.013998</td>\n",
       "      <td>-0.017995</td>\n",
       "      <td>-0.021671</td>\n",
       "      <td>0.046991</td>\n",
       "      <td>0.068726</td>\n",
       "      <td>-0.061868</td>\n",
       "      <td>-0.484165</td>\n",
       "      <td>0.990650</td>\n",
       "      <td>1.000000</td>\n",
       "      <td>-0.018860</td>\n",
       "      <td>0.019780</td>\n",
       "    </tr>\n",
       "    <tr>\n",
       "      <th>hour</th>\n",
       "      <td>0.003150</td>\n",
       "      <td>NaN</td>\n",
       "      <td>-0.005227</td>\n",
       "      <td>-0.000055</td>\n",
       "      <td>0.953306</td>\n",
       "      <td>0.999148</td>\n",
       "      <td>0.198226</td>\n",
       "      <td>0.642651</td>\n",
       "      <td>0.783283</td>\n",
       "      <td>0.173456</td>\n",
       "      <td>0.035838</td>\n",
       "      <td>-0.016277</td>\n",
       "      <td>-0.018860</td>\n",
       "      <td>1.000000</td>\n",
       "      <td>0.041768</td>\n",
       "    </tr>\n",
       "    <tr>\n",
       "      <th>minute</th>\n",
       "      <td>0.022619</td>\n",
       "      <td>NaN</td>\n",
       "      <td>0.015528</td>\n",
       "      <td>0.000987</td>\n",
       "      <td>0.091577</td>\n",
       "      <td>0.082960</td>\n",
       "      <td>0.028441</td>\n",
       "      <td>0.040969</td>\n",
       "      <td>0.050321</td>\n",
       "      <td>0.021522</td>\n",
       "      <td>0.018137</td>\n",
       "      <td>0.017032</td>\n",
       "      <td>0.019780</td>\n",
       "      <td>0.041768</td>\n",
       "      <td>1.000000</td>\n",
       "    </tr>\n",
       "  </tbody>\n",
       "</table>\n",
       "</div>"
      ],
      "text/plain": [
       "                      id  year     month       day  dep_time  sched_dep_time  \\\n",
       "id              1.000000   NaN  0.071779  0.087852  0.002172        0.004076   \n",
       "year                 NaN   NaN       NaN       NaN       NaN             NaN   \n",
       "month           0.071779   NaN  1.000000  0.002942 -0.003932       -0.004573   \n",
       "day             0.087852   NaN  0.002942  1.000000 -0.000467       -0.000014   \n",
       "dep_time        0.002172   NaN -0.003932 -0.000467  1.000000        0.954617   \n",
       "sched_dep_time  0.004076   NaN -0.004573 -0.000014  0.954617        1.000000   \n",
       "dep_delay       0.049713   NaN -0.020057  0.000420  0.260231        0.198887   \n",
       "arr_time       -0.024680   NaN -0.002520 -0.005537  0.660779        0.642680   \n",
       "sched_arr_time -0.013373   NaN -0.004173 -0.002403  0.784682        0.783342   \n",
       "arr_delay       0.018613   NaN -0.017382 -0.000319  0.232306        0.173896   \n",
       "flight          0.002676   NaN -0.000834 -0.001791  0.041957        0.036495   \n",
       "air_time       -0.032866   NaN  0.010924  0.002236 -0.014619       -0.015532   \n",
       "distance        0.012526   NaN  0.021636  0.003041 -0.013998       -0.017995   \n",
       "hour            0.003150   NaN -0.005227 -0.000055  0.953306        0.999148   \n",
       "minute          0.022619   NaN  0.015528  0.000987  0.091577        0.082960   \n",
       "\n",
       "                dep_delay  arr_time  sched_arr_time  arr_delay    flight  \\\n",
       "id               0.049713 -0.024680       -0.013373   0.018613  0.002676   \n",
       "year                  NaN       NaN             NaN        NaN       NaN   \n",
       "month           -0.020057 -0.002520       -0.004173  -0.017382 -0.000834   \n",
       "day              0.000420 -0.005537       -0.002403  -0.000319 -0.001791   \n",
       "dep_time         0.260231  0.660779        0.784682   0.232306  0.041957   \n",
       "sched_dep_time   0.198887  0.642680        0.783342   0.173896  0.036495   \n",
       "dep_delay        1.000000  0.028729        0.160488   0.914803  0.054734   \n",
       "arr_time         0.028729  1.000000        0.788997   0.024482  0.025042   \n",
       "sched_arr_time   0.160488  0.788997        1.000000   0.133261  0.021594   \n",
       "arr_delay        0.914803  0.024482        0.133261   1.000000  0.072862   \n",
       "flight           0.054734  0.025042        0.021594   0.072862  1.000000   \n",
       "air_time        -0.022405  0.054296        0.078918  -0.035297 -0.472838   \n",
       "distance        -0.021671  0.046991        0.068726  -0.061868 -0.484165   \n",
       "hour             0.198226  0.642651        0.783283   0.173456  0.035838   \n",
       "minute           0.028441  0.040969        0.050321   0.021522  0.018137   \n",
       "\n",
       "                air_time  distance      hour    minute  \n",
       "id             -0.032866  0.012526  0.003150  0.022619  \n",
       "year                 NaN       NaN       NaN       NaN  \n",
       "month           0.010924  0.021636 -0.005227  0.015528  \n",
       "day             0.002236  0.003041 -0.000055  0.000987  \n",
       "dep_time       -0.014619 -0.013998  0.953306  0.091577  \n",
       "sched_dep_time -0.015532 -0.017995  0.999148  0.082960  \n",
       "dep_delay      -0.022405 -0.021671  0.198226  0.028441  \n",
       "arr_time        0.054296  0.046991  0.642651  0.040969  \n",
       "sched_arr_time  0.078918  0.068726  0.783283  0.050321  \n",
       "arr_delay      -0.035297 -0.061868  0.173456  0.021522  \n",
       "flight         -0.472838 -0.484165  0.035838  0.018137  \n",
       "air_time        1.000000  0.990650 -0.016277  0.017032  \n",
       "distance        0.990650  1.000000 -0.018860  0.019780  \n",
       "hour           -0.016277 -0.018860  1.000000  0.041768  \n",
       "minute          0.017032  0.019780  0.041768  1.000000  "
      ]
     },
     "execution_count": 69,
     "metadata": {},
     "output_type": "execute_result"
    }
   ],
   "source": [
    "\n",
    "numeric_df = df.select_dtypes(include=['float64', 'int64'])\n",
    "correlation = numeric_df.corr()\n",
    "correlation\n"
   ]
  }
 ],
 "metadata": {
  "kernelspec": {
   "display_name": "base",
   "language": "python",
   "name": "python3"
  },
  "language_info": {
   "codemirror_mode": {
    "name": "ipython",
    "version": 3
   },
   "file_extension": ".py",
   "mimetype": "text/x-python",
   "name": "python",
   "nbconvert_exporter": "python",
   "pygments_lexer": "ipython3",
   "version": "3.12.7"
  }
 },
 "nbformat": 4,
 "nbformat_minor": 2
}
