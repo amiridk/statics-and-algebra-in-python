{
 "cells": [
  {
   "cell_type": "markdown",
   "metadata": {},
   "source": [
    "# start statics in python\n",
    "\n",
    "\n"
   ]
  },
  {
   "cell_type": "markdown",
   "metadata": {},
   "source": [
    "#### Statistics play a crucial role in machine learning, and this note serves as an introduction to working with statistics and probability in Python.\n",
    "\n",
    "this is my note for machine learning starts with important statics and logical operations and a few problems solving in the end of file.\n",
    "\n",
    "by amirreza zare. 5/21/2023\n",
    "\n"
   ]
  },
  {
   "cell_type": "markdown",
   "metadata": {},
   "source": [
    "## start with basics\n",
    "\n",
    "before starts :\n",
    "- Set Theory\n",
    "  - Basic Set Operations\n",
    "    - Union (∪)\n",
    "    - Intersection (∩)\n",
    "    - Complement (')\n",
    "  - Set Relations\n",
    "    - Subset (⊆)\n",
    "    - Proper Subset (⊂)\n",
    "    - Superset (⊇)\n",
    "    - Proper Superset (⊃)\n",
    "  - Advanced Set Operations\n",
    "    - Set Difference (-)\n",
    "    - Symmetric Difference (△)\n",
    "    - Cartesian Product (×)\n",
    "  - Set Properties\n",
    "    - Empty Set (∅)\n",
    "    - Universal Set (U)\n",
    "    - Power Set (P(A))\n",
    "  - Set Identities\n",
    "    - De Morgan's Laws\n",
    "    - Distributive Laws\n",
    "    - Associative Laws\n",
    "- Logical Operations\n",
    "  - Basic Logic\n",
    "    - Conjunction (AND, ∧)\n",
    "    - Disjunction (OR, ∨)\n",
    "    - Negation (NOT, ¬)\n",
    "  - Complex Operations\n",
    "    - Exclusive OR (XOR, ⊕)\n",
    "    - Implication (→)\n",
    "    - Equivalence (↔)\n",
    "  - Logic Laws\n",
    "    - Commutative Laws\n",
    "    - Associative Laws\n",
    "    - Distributive Laws\n"
   ]
  },
  {
   "cell_type": "markdown",
   "metadata": {},
   "source": [
    "# <p style=\"color:blue;font:bold;\">Set Theory</p>\n",
    "\n",
    "  > set_1 and set_2 is global sets rememmber to run block in below \n",
    "  > for better understanding you can copy sets and paste in blocks "
   ]
  },
  {
   "cell_type": "code",
   "execution_count": null,
   "metadata": {},
   "outputs": [],
   "source": [
    "\n",
    "\n",
    "set_1 = {20,19,18,15,12,13,45}\n",
    "set_2 = {30,59,18,35,19,20,94}"
   ]
  },
  {
   "cell_type": "markdown",
   "metadata": {},
   "source": [
    "## intersection\n"
   ]
  },
  {
   "cell_type": "code",
   "execution_count": null,
   "metadata": {},
   "outputs": [],
   "source": [
    "print(set_1.intersection(set_2))\n",
    "print(set_1 & set_2)\n",
    "\n"
   ]
  },
  {
   "cell_type": "markdown",
   "metadata": {},
   "source": [
    "## Union"
   ]
  },
  {
   "cell_type": "code",
   "execution_count": null,
   "metadata": {},
   "outputs": [],
   "source": [
    "print(set_1.union(set_2))\n",
    "print(set_1 | set_2)"
   ]
  },
  {
   "cell_type": "markdown",
   "metadata": {},
   "source": [
    "## Difference\n"
   ]
  },
  {
   "cell_type": "code",
   "execution_count": null,
   "metadata": {},
   "outputs": [],
   "source": [
    "print(f's1 - s2 : {set_1.difference(set_2)}')\n",
    "print(f's2 - s1 : {set_2.difference(set_1)}')\n",
    "\n",
    "print(f's1 - s2 : {set_1 - set_2}') "
   ]
  },
  {
   "cell_type": "markdown",
   "metadata": {},
   "source": [
    "## Symmetric Diffrence \n",
    "\n",
    "#### (a union b) - (a inter b)"
   ]
  },
  {
   "cell_type": "code",
   "execution_count": null,
   "metadata": {},
   "outputs": [],
   "source": [
    "print(set_1.symmetric_difference(set_2))\n",
    "print(set_1 ^ set_2)"
   ]
  },
  {
   "cell_type": "markdown",
   "metadata": {},
   "source": [
    "## Product\n"
   ]
  },
  {
   "cell_type": "code",
   "execution_count": null,
   "metadata": {},
   "outputs": [],
   "source": [
    "result = [] \n",
    "\n",
    "for i in set_1:\n",
    "    for j in set_2:\n",
    "            result.append((i , j))\n",
    "print(result)"
   ]
  },
  {
   "cell_type": "code",
   "execution_count": null,
   "metadata": {},
   "outputs": [],
   "source": [
    "from itertools import product\n",
    "print(list(product(set_1 , set_2)))"
   ]
  },
  {
   "cell_type": "markdown",
   "metadata": {},
   "source": [
    "# <p style=\"color:blue;font:bold;\">Logical Operations</p>"
   ]
  },
  {
   "cell_type": "markdown",
   "metadata": {},
   "source": [
    "#### Membership\n"
   ]
  },
  {
   "cell_type": "code",
   "execution_count": null,
   "metadata": {},
   "outputs": [],
   "source": [
    "print(f'is 10 in/exist_in set_1? {10 in set_1}')\n",
    "print(f'is 12 in/exist_in set_1? {12 in set_1}')\n",
    "print(f'is 14 not in / not exist_in set_1? {14 not in set_1}')"
   ]
  },
  {
   "cell_type": "markdown",
   "metadata": {},
   "source": [
    "#### Disjoint\n"
   ]
  },
  {
   "cell_type": "code",
   "execution_count": null,
   "metadata": {},
   "outputs": [],
   "source": [
    "temp_set = {100,200,500,10000000,4000}\n",
    "\n",
    "print(f'check between set_1 and temp_set : {set_1.intersection(temp_set) == set()}')\n",
    "print(f'check between set_1 and set_2 : {set_1 & set_2 == set()}')\n",
    "print(f'check between set_1 and set_2 : {set_1.isdisjoint(set_2) == set()}')"
   ]
  },
  {
   "cell_type": "markdown",
   "metadata": {},
   "source": [
    "#### Subset"
   ]
  },
  {
   "cell_type": "code",
   "execution_count": null,
   "metadata": {},
   "outputs": [],
   "source": [
    "temp_set = {20,19,18,15,12}\n",
    "\n",
    "print(temp_set.issubset(set_1))\n",
    "print(set_1.issubset(temp_set))\n",
    "print(set_1.issuperset(temp_set))"
   ]
  },
  {
   "cell_type": "markdown",
   "metadata": {},
   "source": [
    "#### complement"
   ]
  },
  {
   "cell_type": "code",
   "execution_count": null,
   "metadata": {},
   "outputs": [],
   "source": [
    "Univers = set(range(1,20))\n",
    "\n",
    "set_comp = {2,4,5,6,7,5}\n",
    "\n",
    "print(Univers - set_comp)"
   ]
  },
  {
   "cell_type": "markdown",
   "metadata": {},
   "source": [
    "#### PowerSet"
   ]
  },
  {
   "cell_type": "code",
   "execution_count": null,
   "metadata": {},
   "outputs": [],
   "source": [
    "from itertools import combinations\n",
    "\n",
    "temp_set = {20,19,18,15,12}\n",
    "result = []\n",
    "for ing in range(0 , len(temp_set)+1):\n",
    "    for i in combinations(temp_set, ing):\n",
    "        result.extend([i])\n",
    "for i in result:\n",
    "    print(i)"
   ]
  },
  {
   "cell_type": "markdown",
   "metadata": {},
   "source": [
    "# Problems"
   ]
  },
  {
   "cell_type": "markdown",
   "metadata": {},
   "source": [
    "#### counting elements"
   ]
  },
  {
   "cell_type": "code",
   "execution_count": null,
   "metadata": {},
   "outputs": [],
   "source": [
    "#counting\n",
    "\n",
    "numbs = [1,2,3,4,5,6,7,3,4,4,4,4,5,1,1]\n",
    "print(f'with not uniques len : {len(numbs)}')\n",
    "print(f'with uniques len : {len(set(numbs))}')"
   ]
  },
  {
   "cell_type": "code",
   "execution_count": null,
   "metadata": {},
   "outputs": [],
   "source": [
    "\n",
    "for i in set(numbs):\n",
    "    print(i ,numbs.count(i))"
   ]
  },
  {
   "cell_type": "code",
   "execution_count": null,
   "metadata": {},
   "outputs": [],
   "source": [
    "from collections import Counter\n",
    "\n",
    "print(dict(Counter(numbs)))"
   ]
  },
  {
   "cell_type": "markdown",
   "metadata": {},
   "source": [
    "## counting and problems :)\n"
   ]
  },
  {
   "cell_type": "markdown",
   "metadata": {},
   "source": [
    "In a school, there are 12 football players, 16 volleyball players, and 8 archers. Some of these individuals participate in more than one sport:\n",
    "4 individuals are both football and volleyball players.\n",
    "3 individuals are both football players and archers.\n",
    "2 individuals are both volleyball players and archers.\n",
    "1 individual participates in all three sports.\n",
    "It is also known that the total number of individuals who participate in at least one of these three sports is 40.\n",
    "\n",
    "count of volleyball player?\n",
    "\n",
    "hint V=V−(F∩V)−(V∩A)+(F∩V∩A)\n"
   ]
  },
  {
   "cell_type": "code",
   "execution_count": null,
   "metadata": {},
   "outputs": [],
   "source": [
    "total_students = 40\n",
    "football = 12\n",
    "volleyball = 16\n",
    "shooting = 8\n",
    "football_and_volleyball = 4\n",
    "football_and_shooting = 3\n",
    "volleyball_and_shooting = 2\n",
    "all_three = 1\n",
    "only_football_volleyball = football_and_volleyball - all_three\n",
    "only_football_shooting = football_and_shooting - all_three\n",
    "only_volleyball_shooting = volleyball_and_shooting - all_three\n",
    "only_football = football - (only_football_volleyball + only_football_shooting + all_three)\n",
    "only_volleyball = volleyball - (only_football_volleyball + only_volleyball_shooting + all_three)\n",
    "only_shooting = shooting - (only_football_shooting + only_volleyball_shooting + all_three)\n",
    "students_in_at_least_one_sport = (\n",
    "    only_football + only_volleyball + only_shooting +\n",
    "    only_football_volleyball + only_football_shooting + only_volleyball_shooting +\n",
    "    all_three\n",
    ")\n",
    "students_in_no_sport = total_students - students_in_at_least_one_sport\n",
    "\n",
    "\n",
    "print(f\"Number of students who are only volleyball players: {only_volleyball}\")"
   ]
  },
  {
   "cell_type": "markdown",
   "metadata": {},
   "source": [
    "Three sets A, B and C have 20, 25 and 15 members respectively. If the number of common members between A and B is equal to 10, the number of common members between B and C is equal to 5, and the number of common members between A and C is equal to 7, and there are also 3 common members between all three sets, how many members of the set (A ⋃ B ⋃ C ) are?"
   ]
  },
  {
   "cell_type": "code",
   "execution_count": null,
   "metadata": {},
   "outputs": [],
   "source": [
    "\n",
    "A = 20\n",
    "B = 25\n",
    "C = 15\n",
    "A_intersect_B = 10\n",
    "A_intersect_C = 7\n",
    "B_intersect_C = 5\n",
    "A_intersect_B_intersect_C = 3\n",
    "union = A + B + C - A_intersect_B - A_intersect_C - B_intersect_C + A_intersect_B_intersect_C\n",
    "print(f\"Number of elements in A ∪ B ∪ C: {union}\")"
   ]
  }
 ],
 "metadata": {
  "kernelspec": {
   "display_name": "Python 3",
   "language": "python",
   "name": "python3"
  },
  "language_info": {
   "codemirror_mode": {
    "name": "ipython",
    "version": 3
   },
   "file_extension": ".py",
   "mimetype": "text/x-python",
   "name": "python",
   "nbconvert_exporter": "python",
   "pygments_lexer": "ipython3",
   "version": "3.12.4"
  }
 },
 "nbformat": 4,
 "nbformat_minor": 2
}
