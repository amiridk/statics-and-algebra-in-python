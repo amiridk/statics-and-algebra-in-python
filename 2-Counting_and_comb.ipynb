{
 "cells": [
  {
   "cell_type": "markdown",
   "metadata": {},
   "source": [
    "# Statics in python\n"
   ]
  },
  {
   "cell_type": "markdown",
   "metadata": {},
   "source": [
    "#### Statistics play a crucial role in machine learning, and this note serves as an introduction to working with statistics and probability in Python.\n",
    "\n",
    "this is my note for machine learning starts with important statics and logical operations and a few problems solving in the end of file.\n",
    "\n",
    "by amirreza zare. 5/21/2023\n",
    "\n"
   ]
  },
  {
   "cell_type": "markdown",
   "metadata": {},
   "source": [
    "##### counting number of 4 digit with duplicate"
   ]
  },
  {
   "cell_type": "code",
   "execution_count": null,
   "metadata": {},
   "outputs": [],
   "source": [
    "count = 0\n",
    "for num in range(1000, 10000):\n",
    "    if len(set(str(num))) != len(str(num)):\n",
    "        count += 1\n",
    "print(count)"
   ]
  },
  {
   "cell_type": "markdown",
   "metadata": {},
   "source": [
    "#### premutations"
   ]
  },
  {
   "cell_type": "code",
   "execution_count": null,
   "metadata": {},
   "outputs": [],
   "source": [
    "from itertools import permutations\n",
    "\n",
    "lorenzo_per = permutations('lorenzo')\n",
    "\n",
    "print(f'count of premutations of lorenzo is : {len(list(lorenzo_per))}')\n",
    "\n",
    "# when starts with lor\n",
    "lorenzo_per = permutations('lorenzo')\n",
    "count = 0\n",
    "results=[]\n",
    "for per in lorenzo_per:\n",
    "    per = ''.join(per)\n",
    "    if 'lor' in per :\n",
    "        count += 1\n",
    "        results.extend([per])\n",
    "\n",
    "print(f'count of premutations of lorenzo that contains lor is : {count} below this some results >')\n",
    "print(results)"
   ]
  },
  {
   "cell_type": "markdown",
   "metadata": {},
   "source": [
    "#### premutations of 6 Players\n",
    "\n",
    "if player is in the place of his number (id) would give a PRICE !!!"
   ]
  },
  {
   "cell_type": "code",
   "execution_count": null,
   "metadata": {},
   "outputs": [],
   "source": [
    "from itertools import permutations\n",
    "\n",
    "count = 0\n",
    "\n",
    "for per in permutations([1,2,3,4,5,6]):\n",
    "    for q , p in enumerate(per , start = 1):\n",
    "        if q == p:\n",
    "            count+=1\n",
    "\n",
    "print(count)"
   ]
  },
  {
   "cell_type": "markdown",
   "metadata": {},
   "source": [
    "##### pemutations of 4 apples and 2 oranges\n",
    "\n"
   ]
  },
  {
   "cell_type": "code",
   "execution_count": null,
   "metadata": {},
   "outputs": [],
   "source": [
    "from itertools import permutations\n",
    "\n",
    "fruits_perm = permutations('AAAAOO')\n",
    "for per in set(fruits_perm):\n",
    "    print(per)"
   ]
  },
  {
   "cell_type": "markdown",
   "metadata": {},
   "source": [
    "##### permutation of 3 boys with 4 girls in a circle and if 2 boys being beside eachother , they will fight, count the safe permutations"
   ]
  },
  {
   "cell_type": "code",
   "execution_count": 30,
   "metadata": {},
   "outputs": [
    {
     "name": "stdout",
     "output_type": "stream",
     "text": [
      "5040\n"
     ]
    }
   ],
   "source": [
    "total = 0\n",
    "for per in permutations('bbbgggg'):\n",
    "    is_valid = 1\n",
    "    for i in range(len(per)-1):\n",
    "        if per[i] == per[i+1] == 'B':\n",
    "            is_valid = 0\n",
    "            break\n",
    "    total += is_valid\n",
    "print(total)"
   ]
  }
 ],
 "metadata": {
  "kernelspec": {
   "display_name": "Python 3",
   "language": "python",
   "name": "python3"
  },
  "language_info": {
   "codemirror_mode": {
    "name": "ipython",
    "version": 3
   },
   "file_extension": ".py",
   "mimetype": "text/x-python",
   "name": "python",
   "nbconvert_exporter": "python",
   "pygments_lexer": "ipython3",
   "version": "3.12.4"
  }
 },
 "nbformat": 4,
 "nbformat_minor": 2
}
