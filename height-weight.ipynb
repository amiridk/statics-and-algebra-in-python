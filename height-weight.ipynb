{
 "cells": [
  {
   "cell_type": "code",
   "execution_count": 30,
   "metadata": {},
   "outputs": [],
   "source": [
    "import pandas as pd\n",
    "import numpy as np\n",
    "import scipy.stats as stats\n",
    "import matplotlib.pyplot as plt"
   ]
  },
  {
   "cell_type": "code",
   "execution_count": 31,
   "metadata": {},
   "outputs": [],
   "source": [
    "def KL(p , q):\n",
    "    result = np.sum(np.where(np.logical_and(p != 0 , q != 0), p * np.log(p/q) ,0))\n",
    "    return result"
   ]
  },
  {
   "cell_type": "code",
   "execution_count": 32,
   "metadata": {},
   "outputs": [
    {
     "data": {
      "text/html": [
       "<div>\n",
       "<style scoped>\n",
       "    .dataframe tbody tr th:only-of-type {\n",
       "        vertical-align: middle;\n",
       "    }\n",
       "\n",
       "    .dataframe tbody tr th {\n",
       "        vertical-align: top;\n",
       "    }\n",
       "\n",
       "    .dataframe thead th {\n",
       "        text-align: right;\n",
       "    }\n",
       "</style>\n",
       "<table border=\"1\" class=\"dataframe\">\n",
       "  <thead>\n",
       "    <tr style=\"text-align: right;\">\n",
       "      <th></th>\n",
       "      <th>Gender</th>\n",
       "      <th>Height</th>\n",
       "      <th>Weight</th>\n",
       "    </tr>\n",
       "  </thead>\n",
       "  <tbody>\n",
       "    <tr>\n",
       "      <th>0</th>\n",
       "      <td>Male</td>\n",
       "      <td>73.847017</td>\n",
       "      <td>241.893563</td>\n",
       "    </tr>\n",
       "    <tr>\n",
       "      <th>1</th>\n",
       "      <td>Male</td>\n",
       "      <td>68.781904</td>\n",
       "      <td>162.310473</td>\n",
       "    </tr>\n",
       "    <tr>\n",
       "      <th>2</th>\n",
       "      <td>Male</td>\n",
       "      <td>74.110105</td>\n",
       "      <td>212.740856</td>\n",
       "    </tr>\n",
       "    <tr>\n",
       "      <th>3</th>\n",
       "      <td>Male</td>\n",
       "      <td>71.730978</td>\n",
       "      <td>220.042470</td>\n",
       "    </tr>\n",
       "    <tr>\n",
       "      <th>4</th>\n",
       "      <td>Male</td>\n",
       "      <td>69.881796</td>\n",
       "      <td>206.349801</td>\n",
       "    </tr>\n",
       "  </tbody>\n",
       "</table>\n",
       "</div>"
      ],
      "text/plain": [
       "  Gender     Height      Weight\n",
       "0   Male  73.847017  241.893563\n",
       "1   Male  68.781904  162.310473\n",
       "2   Male  74.110105  212.740856\n",
       "3   Male  71.730978  220.042470\n",
       "4   Male  69.881796  206.349801"
      ]
     },
     "execution_count": 32,
     "metadata": {},
     "output_type": "execute_result"
    }
   ],
   "source": [
    "data = pd.read_csv('weight-height.csv')\n",
    "data.head()"
   ]
  },
  {
   "cell_type": "code",
   "execution_count": 33,
   "metadata": {},
   "outputs": [
    {
     "data": {
      "text/html": [
       "<div>\n",
       "<style scoped>\n",
       "    .dataframe tbody tr th:only-of-type {\n",
       "        vertical-align: middle;\n",
       "    }\n",
       "\n",
       "    .dataframe tbody tr th {\n",
       "        vertical-align: top;\n",
       "    }\n",
       "\n",
       "    .dataframe thead th {\n",
       "        text-align: right;\n",
       "    }\n",
       "</style>\n",
       "<table border=\"1\" class=\"dataframe\">\n",
       "  <thead>\n",
       "    <tr style=\"text-align: right;\">\n",
       "      <th></th>\n",
       "      <th>Height</th>\n",
       "      <th>Weight</th>\n",
       "    </tr>\n",
       "    <tr>\n",
       "      <th>Gender</th>\n",
       "      <th></th>\n",
       "      <th></th>\n",
       "    </tr>\n",
       "  </thead>\n",
       "  <tbody>\n",
       "    <tr>\n",
       "      <th>Female</th>\n",
       "      <td>63.708774</td>\n",
       "      <td>135.860093</td>\n",
       "    </tr>\n",
       "    <tr>\n",
       "      <th>Male</th>\n",
       "      <td>69.026346</td>\n",
       "      <td>187.020621</td>\n",
       "    </tr>\n",
       "  </tbody>\n",
       "</table>\n",
       "</div>"
      ],
      "text/plain": [
       "           Height      Weight\n",
       "Gender                       \n",
       "Female  63.708774  135.860093\n",
       "Male    69.026346  187.020621"
      ]
     },
     "execution_count": 33,
     "metadata": {},
     "output_type": "execute_result"
    }
   ],
   "source": [
    "data.groupby('Gender').mean()"
   ]
  },
  {
   "cell_type": "code",
   "execution_count": 34,
   "metadata": {},
   "outputs": [
    {
     "data": {
      "text/plain": [
       "<Axes: >"
      ]
     },
     "execution_count": 34,
     "metadata": {},
     "output_type": "execute_result"
    },
    {
     "data": {
      "image/png": "[encoded data removed]",
      "text/plain": [
       "<Figure size 640x480 with 1 Axes>"
      ]
     },
     "metadata": {},
     "output_type": "display_data"
    }
   ],
   "source": [
    "males = data[data['Gender'] == 'Male']['Height']\n",
    "males.hist(bins=100)"
   ]
  },
  {
   "cell_type": "code",
   "execution_count": 35,
   "metadata": {},
   "outputs": [
    {
     "data": {
      "text/plain": [
       "69.02634590621741"
      ]
     },
     "execution_count": 35,
     "metadata": {},
     "output_type": "execute_result"
    }
   ],
   "source": [
    "males.describe()['mean']"
   ]
  },
  {
   "cell_type": "code",
   "execution_count": 36,
   "metadata": {},
   "outputs": [
    {
     "data": {
      "text/plain": [
       "2.863362228660651"
      ]
     },
     "execution_count": 36,
     "metadata": {},
     "output_type": "execute_result"
    }
   ],
   "source": [
    "males.describe()['std']"
   ]
  },
  {
   "cell_type": "code",
   "execution_count": 37,
   "metadata": {},
   "outputs": [
    {
     "name": "stdout",
     "output_type": "stream",
     "text": [
      "[  1   0   0   0   1   0   0   3   2   3   1   5   5   4   6   5   8   9\n",
      "   9  12  14   9  16  16  19  29  34  27  20  37  47  56  60  63  59  70\n",
      "  77  78  88  89  96 101 125 131 127 129 148 148 150 135 122 168 145 139\n",
      " 151 134 124 112 144  93 133 109  98 115 113 103  83  79  62  61  46  50\n",
      "  40  43  42  34  28  30  16  20  13  11   8  11   5   8   4   7   8   4\n",
      "   3   1   3   0   0   1   0   2   1   1] \n",
      " [58.40690493 58.61282331 58.81874168 59.02466005 59.23057843 59.4364968\n",
      " 59.64241518 59.84833355 60.05425192 60.2601703  60.46608867 60.67200705\n",
      " 60.87792542 61.0838438  61.28976217 61.49568054 61.70159892 61.90751729\n",
      " 62.11343567 62.31935404 62.52527241 62.73119079 62.93710916 63.14302754\n",
      " 63.34894591 63.55486429 63.76078266 63.96670103 64.17261941 64.37853778\n",
      " 64.58445616 64.79037453 64.9962929  65.20221128 65.40812965 65.61404803\n",
      " 65.8199664  66.02588478 66.23180315 66.43772152 66.6436399  66.84955827\n",
      " 67.05547665 67.26139502 67.46731339 67.67323177 67.87915014 68.08506852\n",
      " 68.29098689 68.49690526 68.70282364 68.90874201 69.11466039 69.32057876\n",
      " 69.52649714 69.73241551 69.93833388 70.14425226 70.35017063 70.55608901\n",
      " 70.76200738 70.96792575 71.17384413 71.3797625  71.58568088 71.79159925\n",
      " 71.99751763 72.203436   72.40935437 72.61527275 72.82119112 73.0271095\n",
      " 73.23302787 73.43894624 73.64486462 73.85078299 74.05670137 74.26261974\n",
      " 74.46853812 74.67445649 74.88037486 75.08629324 75.29221161 75.49812999\n",
      " 75.70404836 75.90996673 76.11588511 76.32180348 76.52772186 76.73364023\n",
      " 76.9395586  77.14547698 77.35139535 77.55731373 77.7632321  77.96915048\n",
      " 78.17506885 78.38098722 78.5869056  78.79282397 78.99874235]\n"
     ]
    }
   ],
   "source": [
    "count , devision = np.histogram(males , bins = 100)\n",
    "print(f'{count} \\n {devision}')"
   ]
  },
  {
   "cell_type": "code",
   "execution_count": 38,
   "metadata": {},
   "outputs": [
    {
     "data": {
      "text/plain": [
       "array([70.86703195, 70.88563793, 66.52984564, ..., 66.17557329,\n",
       "       67.7617783 , 69.50846741])"
      ]
     },
     "execution_count": 38,
     "metadata": {},
     "output_type": "execute_result"
    }
   ],
   "source": [
    "ideal = stats.norm.rvs(size = len(males) , loc = males.describe()['mean'] , scale = males.describe()['std'])\n",
    "ideal"
   ]
  },
  {
   "cell_type": "code",
   "execution_count": 39,
   "metadata": {},
   "outputs": [
    {
     "name": "stdout",
     "output_type": "stream",
     "text": [
      "[  1   0   0   0   0   0   0   0   0   1   1   2   0   0   4   2   2   5\n",
      "   6  10   8  22  13  17  25  19  24  22  37  24  42  55  46  78  69  84\n",
      "  61  83  90  94 108 123 123 148 140 134 146 153 143 154 149 158 136 146\n",
      " 152 152 133 137 116 123 113 126 108 115  92  94  62  69  67  63  58  29\n",
      "  41  38  34  28  21  22  18  12  11  11  10  11   6   6   6   3   0   1\n",
      "   0   0   1   1   0   0   0   1   0   1] \n",
      " [57.89247742 58.11086741 58.3292574  58.54764739 58.76603739 58.98442738\n",
      " 59.20281737 59.42120736 59.63959735 59.85798734 60.07637733 60.29476733\n",
      " 60.51315732 60.73154731 60.9499373  61.16832729 61.38671728 61.60510727\n",
      " 61.82349727 62.04188726 62.26027725 62.47866724 62.69705723 62.91544722\n",
      " 63.13383721 63.35222721 63.5706172  63.78900719 64.00739718 64.22578717\n",
      " 64.44417716 64.66256716 64.88095715 65.09934714 65.31773713 65.53612712\n",
      " 65.75451711 65.9729071  66.1912971  66.40968709 66.62807708 66.84646707\n",
      " 67.06485706 67.28324705 67.50163704 67.72002704 67.93841703 68.15680702\n",
      " 68.37519701 68.593587   68.81197699 69.03036698 69.24875698 69.46714697\n",
      " 69.68553696 69.90392695 70.12231694 70.34070693 70.55909692 70.77748692\n",
      " 70.99587691 71.2142669  71.43265689 71.65104688 71.86943687 72.08782687\n",
      " 72.30621686 72.52460685 72.74299684 72.96138683 73.17977682 73.39816681\n",
      " 73.61655681 73.8349468  74.05333679 74.27172678 74.49011677 74.70850676\n",
      " 74.92689675 75.14528675 75.36367674 75.58206673 75.80045672 76.01884671\n",
      " 76.2372367  76.45562669 76.67401669 76.89240668 77.11079667 77.32918666\n",
      " 77.54757665 77.76596664 77.98435663 78.20274663 78.42113662 78.63952661\n",
      " 78.8579166  79.07630659 79.29469658 79.51308658 79.73147657]\n"
     ]
    }
   ],
   "source": [
    "icount , idevision = np.histogram(ideal , bins=100)\n",
    "print(f'{icount} \\n {idevision}')"
   ]
  },
  {
   "cell_type": "code",
   "execution_count": 40,
   "metadata": {},
   "outputs": [
    {
     "name": "stderr",
     "output_type": "stream",
     "text": [
      "C:\\Users\\ASUS\\AppData\\Local\\Temp\\ipykernel_5364\\1497566379.py:2: RuntimeWarning: divide by zero encountered in divide\n",
      "  result = np.sum(np.where(np.logical_and(p != 0 , q != 0), p * np.log(p/q) ,0))\n",
      "C:\\Users\\ASUS\\AppData\\Local\\Temp\\ipykernel_5364\\1497566379.py:2: RuntimeWarning: invalid value encountered in divide\n",
      "  result = np.sum(np.where(np.logical_and(p != 0 , q != 0), p * np.log(p/q) ,0))\n",
      "C:\\Users\\ASUS\\AppData\\Local\\Temp\\ipykernel_5364\\1497566379.py:2: RuntimeWarning: divide by zero encountered in log\n",
      "  result = np.sum(np.where(np.logical_and(p != 0 , q != 0), p * np.log(p/q) ,0))\n",
      "C:\\Users\\ASUS\\AppData\\Local\\Temp\\ipykernel_5364\\1497566379.py:2: RuntimeWarning: invalid value encountered in multiply\n",
      "  result = np.sum(np.where(np.logical_and(p != 0 , q != 0), p * np.log(p/q) ,0))\n"
     ]
    },
    {
     "data": {
      "text/plain": [
       "64.33036984237569"
      ]
     },
     "execution_count": 40,
     "metadata": {},
     "output_type": "execute_result"
    }
   ],
   "source": [
    "KL(count , icount)"
   ]
  },
  {
   "cell_type": "code",
   "execution_count": 41,
   "metadata": {},
   "outputs": [
    {
     "data": {
      "text/plain": [
       "[<matplotlib.lines.Line2D at 0x1f7dc3e7f80>]"
      ]
     },
     "execution_count": 41,
     "metadata": {},
     "output_type": "execute_result"
    },
    {
     "data": {
      "image/png": "[encoded data removed]",
      "text/plain": [
       "<Figure size 640x480 with 1 Axes>"
      ]
     },
     "metadata": {},
     "output_type": "display_data"
    }
   ],
   "source": [
    "plt.plot(count, c='blue')\n",
    "plt.plot(icount , c='red')"
   ]
  },
  {
   "cell_type": "code",
   "execution_count": 42,
   "metadata": {},
   "outputs": [
    {
     "name": "stderr",
     "output_type": "stream",
     "text": [
      "C:\\Users\\ASUS\\AppData\\Local\\Temp\\ipykernel_5364\\1497566379.py:2: RuntimeWarning: divide by zero encountered in divide\n",
      "  result = np.sum(np.where(np.logical_and(p != 0 , q != 0), p * np.log(p/q) ,0))\n",
      "C:\\Users\\ASUS\\AppData\\Local\\Temp\\ipykernel_5364\\1497566379.py:2: RuntimeWarning: invalid value encountered in divide\n",
      "  result = np.sum(np.where(np.logical_and(p != 0 , q != 0), p * np.log(p/q) ,0))\n",
      "C:\\Users\\ASUS\\AppData\\Local\\Temp\\ipykernel_5364\\1497566379.py:2: RuntimeWarning: divide by zero encountered in log\n",
      "  result = np.sum(np.where(np.logical_and(p != 0 , q != 0), p * np.log(p/q) ,0))\n",
      "C:\\Users\\ASUS\\AppData\\Local\\Temp\\ipykernel_5364\\1497566379.py:2: RuntimeWarning: invalid value encountered in multiply\n",
      "  result = np.sum(np.where(np.logical_and(p != 0 , q != 0), p * np.log(p/q) ,0))\n"
     ]
    },
    {
     "data": {
      "text/plain": [
       "0.012866073968475151"
      ]
     },
     "execution_count": 42,
     "metadata": {},
     "output_type": "execute_result"
    }
   ],
   "source": [
    "count = count / sum(count)\n",
    "icount = icount/ sum(icount)\n",
    "KL(count , icount)\n"
   ]
  }
 ],
 "metadata": {
  "kernelspec": {
   "display_name": "base",
   "language": "python",
   "name": "python3"
  },
  "language_info": {
   "codemirror_mode": {
    "name": "ipython",
    "version": 3
   },
   "file_extension": ".py",
   "mimetype": "text/x-python",
   "name": "python",
   "nbconvert_exporter": "python",
   "pygments_lexer": "ipython3",
   "version": "3.12.7"
  }
 },
 "nbformat": 4,
 "nbformat_minor": 2
}
