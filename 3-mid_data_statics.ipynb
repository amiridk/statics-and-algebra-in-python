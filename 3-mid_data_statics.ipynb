{
 "cells": [
  {
   "cell_type": "markdown",
   "metadata": {},
   "source": [
    "# Statics in python\n"
   ]
  },
  {
   "cell_type": "markdown",
   "metadata": {},
   "source": [
    "#### Statistics play a crucial role in machine learning, and this note serves as an introduction to working with statistics and probability in Python.\n",
    "\n",
    "this is my note for machine learning starts with important statics and logical operations and a few problems solving in the end of file.\n",
    "\n",
    "by amirreza zare. 5/21/2023\n",
    "\n"
   ]
  },
  {
   "cell_type": "markdown",
   "metadata": {},
   "source": [
    "important hint before start\n"
   ]
  },
  {
   "cell_type": "markdown",
   "metadata": {},
   "source": [
    "##### focusing (intensification)\n",
    "\n",
    "Mean\n",
    "Median\n",
    "Mode\n",
    "\n",
    "##### scattering (explor)\n",
    "\n",
    "Range\n",
    "IQR\n",
    "Variance"
   ]
  },
  {
   "cell_type": "code",
   "execution_count": 14,
   "metadata": {},
   "outputs": [],
   "source": [
    "import numpy as np\n",
    "\n",
    "data_sample = [15,13,16,14.5,20,90,105]\n",
    "data_sample_2 = [10,15,16,13,10,13,16,17,13,13,10,19,20]"
   ]
  },
  {
   "cell_type": "markdown",
   "metadata": {},
   "source": [
    "best ways to do some operation in python\n",
    "\n",
    "##### find the Mean of datas"
   ]
  },
  {
   "cell_type": "code",
   "execution_count": null,
   "metadata": {},
   "outputs": [
    {
     "name": "stdout",
     "output_type": "stream",
     "text": [
      "39.07142857142857\n"
     ]
    }
   ],
   "source": [
    "print(np.mean(data_sample))"
   ]
  },
  {
   "cell_type": "markdown",
   "metadata": {},
   "source": [
    "#### median"
   ]
  },
  {
   "cell_type": "code",
   "execution_count": 3,
   "metadata": {},
   "outputs": [
    {
     "name": "stdout",
     "output_type": "stream",
     "text": [
      "16.0\n"
     ]
    }
   ],
   "source": [
    "print(np.median(data_sample))"
   ]
  },
  {
   "cell_type": "markdown",
   "metadata": {},
   "source": [
    "#### Mode\n",
    "\n",
    "\n",
    "hint : some numbers are redundant\n"
   ]
  },
  {
   "cell_type": "code",
   "execution_count": 7,
   "metadata": {},
   "outputs": [
    {
     "name": "stdout",
     "output_type": "stream",
     "text": [
      "ModeResult(mode=13, count=4)\n"
     ]
    }
   ],
   "source": [
    "from scipy import stats\n",
    "\n",
    "print(stats.mode(data_sample_2))"
   ]
  },
  {
   "cell_type": "code",
   "execution_count": 13,
   "metadata": {},
   "outputs": [
    {
     "name": "stdout",
     "output_type": "stream",
     "text": [
      "[(10, 3), (16, 2), (13, 4)]\n"
     ]
    }
   ],
   "source": [
    "# better way\n",
    "\n",
    "from collections import Counter\n",
    "\n",
    "result=[]\n",
    "data_to_dict = Counter(data_sample_2)\n",
    "\n",
    "for data in data_to_dict:\n",
    "    if data_to_dict[data] > 1:\n",
    "        result.extend([(data , data_to_dict[data])])\n",
    "        \n",
    "\n",
    "print(result)\n"
   ]
  },
  {
   "cell_type": "markdown",
   "metadata": {},
   "source": [
    "##### IQR\n",
    "\n"
   ]
  },
  {
   "cell_type": "code",
   "execution_count": 17,
   "metadata": {},
   "outputs": [
    {
     "name": "stdout",
     "output_type": "stream",
     "text": [
      "14.75 16.0 55.0\n",
      "39.0\n"
     ]
    }
   ],
   "source": [
    "\n",
    "Q1 , Q2 , Q3 = np.quantile(data_sample ,  [ .25 , .5 , .75 ] )\n",
    "\n",
    "IQR = Q3 - Q2\n",
    "\n",
    "print(Q1 , Q2 , Q3)\n",
    "\n",
    "print(IQR)"
   ]
  },
  {
   "cell_type": "markdown",
   "metadata": {},
   "source": [
    "##### STD & VAR"
   ]
  },
  {
   "cell_type": "code",
   "execution_count": 18,
   "metadata": {},
   "outputs": [
    {
     "name": "stdout",
     "output_type": "stream",
     "text": [
      " STD : 37.22367581011213  ,  VAR : 1385.6020408163265  ,  CV : 0.9527083388328516  ,  CV% : 95.27083388328515 \n"
     ]
    }
   ],
   "source": [
    "print(f' STD : {np.std(data_sample)}  ,  VAR : {np.var(data_sample)}  ,  CV : {np.std(data_sample)/np.mean(data_sample)}  ,  CV% : {np.std(data_sample)/np.mean(data_sample)*100} ')"
   ]
  }
 ],
 "metadata": {
  "kernelspec": {
   "display_name": "Python 3",
   "language": "python",
   "name": "python3"
  },
  "language_info": {
   "codemirror_mode": {
    "name": "ipython",
    "version": 3
   },
   "file_extension": ".py",
   "mimetype": "text/x-python",
   "name": "python",
   "nbconvert_exporter": "python",
   "pygments_lexer": "ipython3",
   "version": "3.12.4"
  }
 },
 "nbformat": 4,
 "nbformat_minor": 2
}
